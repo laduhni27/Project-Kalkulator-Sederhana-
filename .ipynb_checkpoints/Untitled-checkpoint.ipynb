{
 "cells": [
  {
   "cell_type": "code",
   "execution_count": 1,
   "id": "5d684135",
   "metadata": {},
   "outputs": [
    {
     "name": "stdout",
     "output_type": "stream",
     "text": [
      "Angka1 : 12\n",
      "Angka2 : 12\n",
      "\n",
      "Hasil Penjumlahan : 24\n",
      "Hasil Pengurangan : 0\n",
      "Hasil Perkalian : 144\n",
      "Hasil Pembagian : 1\n"
     ]
    }
   ],
   "source": [
    "x= int(input(\"Angka1 : \"))\n",
    "y= int(input(\"Angka2 : \"))\n",
    "\n",
    "def tambah(x,y):\n",
    "   return x+y\n",
    "\n",
    "def kurang(x,y):\n",
    "   return x-y\n",
    "\n",
    "def kali(x,y):\n",
    "   return x*y\n",
    "\n",
    "def bagi(x,y):\n",
    "   return x/y\n",
    "\n",
    "print(\"\\nHasil Penjumlahan : %d\" %tambah(x,y))\n",
    "print(\"Hasil Pengurangan : %d\" %kurang(x,y))\n",
    "print(\"Hasil Perkalian : %d\" %kali(x,y))\n",
    "print(\"Hasil Pembagian : %d\" %bagi(x,y))"
   ]
  },
  {
   "cell_type": "code",
   "execution_count": null,
   "id": "6a77f8b2",
   "metadata": {},
   "outputs": [],
   "source": []
  }
 ],
 "metadata": {
  "kernelspec": {
   "display_name": "Python 3 (ipykernel)",
   "language": "python",
   "name": "python3"
  },
  "language_info": {
   "codemirror_mode": {
    "name": "ipython",
    "version": 3
   },
   "file_extension": ".py",
   "mimetype": "text/x-python",
   "name": "python",
   "nbconvert_exporter": "python",
   "pygments_lexer": "ipython3",
   "version": "3.9.7"
  }
 },
 "nbformat": 4,
 "nbformat_minor": 5
}
